{
  "nbformat": 4,
  "nbformat_minor": 0,
  "metadata": {
    "colab": {
      "provenance": [],
      "authorship_tag": "ABX9TyObzK4S7cAWKLFf5rCFGB3F",
      "include_colab_link": true
    },
    "kernelspec": {
      "name": "python3",
      "display_name": "Python 3"
    },
    "language_info": {
      "name": "python"
    }
  },
  "cells": [
    {
      "cell_type": "markdown",
      "metadata": {
        "id": "view-in-github",
        "colab_type": "text"
      },
      "source": [
        "<a href=\"https://colab.research.google.com/github/therab6it/UCSD_CSE151A-SS1/blob/Milestone-2/Data_Processing.ipynb\" target=\"_parent\"><img src=\"https://colab.research.google.com/assets/colab-badge.svg\" alt=\"Open In Colab\"/></a>"
      ]
    },
    {
      "cell_type": "markdown",
      "source": [
        "# Submission for Milestone 2."
      ],
      "metadata": {
        "id": "SSMo1xdPjvts"
      }
    },
    {
      "cell_type": "markdown",
      "source": [
        "> Commit changes to the GitHub repo by clicking on *File > Save a copy in GitHub*. Select the correct repository (**/UCSD_151A-SS1**) and branch (**Milestone-2**) and include a meaningful commit message.\n",
        "\n"
      ],
      "metadata": {
        "id": "U57AY5rFkPDA"
      }
    },
    {
      "cell_type": "code",
      "source": [
        "print(\"ö\")"
      ],
      "metadata": {
        "colab": {
          "base_uri": "https://localhost:8080/"
        },
        "id": "CXESYV5kj-zT",
        "outputId": "a5f42e96-8298-4dd0-8953-061f9c7ab547"
      },
      "execution_count": 1,
      "outputs": [
        {
          "output_type": "stream",
          "name": "stdout",
          "text": [
            "ö\n"
          ]
        }
      ]
    }
  ]
}